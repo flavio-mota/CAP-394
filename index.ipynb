{
 "cells": [
  {
   "cell_type": "markdown",
   "id": "98151770-681e-4807-b217-38aff85363ca",
   "metadata": {},
   "source": [
    "# <span>Projeto da Disciplina CAP394 - Introdução à Ciência de Dados</span>\n",
    "<hr style=\"border:2px solid #0077b9;\">"
   ]
  },
  {
   "cell_type": "markdown",
   "id": "3c3289ea-f944-41dd-b780-8e7c5cbe2187",
   "metadata": {},
   "source": [
    "Essa página contém os cadernos jupyter utilizados para a elaboração do projeto da disciplina CAP394 - Introdução à Ciência de Dados do programa de Computação Aplicada do Instituto Nacional de Pesquisas Espaciais (INPE). Os cadernos foram organizados em \"Coleta e tratamento de dados\" e \"Análise dos dados\", de forma a facilitar o entendimento da abordagem utilizada. Os dados utilizados nesse projeto são provenientes do grupo CRISIS NLP e foram coletados utilizando publicações do Twitter referentes à pandemia de COVID-19.\n",
    "<br>\n",
    "<a href=\"/coleta\">Coleta e tratamento de dados</a>\n",
    "<br>\n",
    "<a href=\"/analise\">Análise dos dados</a>"
   ]
  }
 ],
 "metadata": {
  "kernelspec": {
   "display_name": "Python 3 (ipykernel)",
   "language": "python",
   "name": "python3"
  },
  "language_info": {
   "codemirror_mode": {
    "name": "ipython",
    "version": 3
   },
   "file_extension": ".py",
   "mimetype": "text/x-python",
   "name": "python",
   "nbconvert_exporter": "python",
   "pygments_lexer": "ipython3",
   "version": "3.9.12"
  }
 },
 "nbformat": 4,
 "nbformat_minor": 5
}

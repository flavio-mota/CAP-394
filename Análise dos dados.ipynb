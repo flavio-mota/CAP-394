{
 "cells": [
  {
   "cell_type": "markdown",
   "id": "9c9aee63-e48b-43a8-9111-fe30bfabce60",
   "metadata": {},
   "source": [
    "# <span>Analisando os dados</span>\n",
    "<hr style=\"border:2px solid #0077b9;\">\n",
    "\n",
    "<br/>\n",
    "\n",
    "<div style=\"text-align: center;font-size: 90%;\">\n",
    "    Autor: Flávio Belizário da Silva Mota\n",
    "    <br/><br/>\n",
    "    Instituto Nacional de Pesquisas Espaciais (INPE)\n",
    "    <br/>\n",
    "    Avenida dos Astronautas, 1758, Jardim da Granja, São José dos Campos, SP 12227-010, Brazil\n",
    "    <br/><br/>\n",
    "    Contato: <a href=\"mailto:flavio.belizario.mota@gmail.com\">flavio.belizario.mota@gmail.com</a>\n",
    "    <br/>\n",
    "    Professor: Rafael Santos\n",
    "</div>\n",
    "\n",
    "<br/>\n",
    "\n",
    "<div style=\"text-align: justify;  margin-left: 25%; margin-right: 25%;\">\n",
    "<b>Objetivo.</b> Esse caderno Jupyter tem como objetivo apresentar a análise dos dados para o projeto da disciplina CAP394 - Introdução à Ciência de Dados. Os dados são provenientes do projeto CRISIS NLP e foram coletados utilizando publicações do Twitter referentes à pandemia de COVID-19. O conjunto utilizado para a análise foi coletado e tratado em uma etapa prévia (vide: coleta) e contém informações sobre data de criação de uma publicação, origem da informação geolocalizada do dado e o estado e cidade de origem da publicação.\n",
    "</div>\n",
    "\n",
    "<br/>\n",
    "<div style=\"text-align: center;font-size: 90%;\">\n",
    "    <b>Os dados podem ser encontrados em:</b>\n",
    "    <div style=\"margin-left: 10px; margin-right: 10px\">\n",
    "    https://crisisnlp.qcri.org/covid19\n",
    "    </div>\n",
    "</div>"
   ]
  },
  {
   "cell_type": "markdown",
   "id": "a9cf4c74-008e-49b4-80b9-b160518f1046",
   "metadata": {},
   "source": [
    "## Analisando os dados\n",
    "<hr style=\"border:2px solid #0077b9;\">"
   ]
  },
  {
   "cell_type": "markdown",
   "id": "d3d43777-b386-475c-9c4c-2594c57e00b4",
   "metadata": {
    "tags": []
   },
   "source": [
    "### O conjunto de dados\n",
    "<hr style=\"border:1px solid #0077b9;\">"
   ]
  },
  {
   "cell_type": "markdown",
   "id": "02a44a66-bb99-4687-88e3-076e19096f06",
   "metadata": {},
   "source": [
    "O conjunto de dados empregado nas análises a seguir foi elaborado na etapa de coleta e tratamento deste trabalho (vide: coleta). Em resumo, são dados provenientes de publicações do Twitter referentes à pandemia de COVID-19. Especificamente, o conjunto a seguir contém informações sobre a data de criação, fonte das informações geolocalizadas do dado e cidade e estado de publicações com origem no Brasil entre os dias 19 de fevereiro e 20 de março de 2020.\n",
    "<br><br>\n",
    "Vamos iniciar nossa análise carregando o conjunto. Bibliotecas necessárias para a análise serão importadas ao longo do caderno."
   ]
  },
  {
   "cell_type": "code",
   "execution_count": 34,
   "id": "92b0af55-9d9d-4dcf-9ad0-059ba5de592c",
   "metadata": {},
   "outputs": [
    {
     "data": {
      "text/html": [
       "<div>\n",
       "<style scoped>\n",
       "    .dataframe tbody tr th:only-of-type {\n",
       "        vertical-align: middle;\n",
       "    }\n",
       "\n",
       "    .dataframe tbody tr th {\n",
       "        vertical-align: top;\n",
       "    }\n",
       "\n",
       "    .dataframe thead th {\n",
       "        text-align: right;\n",
       "    }\n",
       "</style>\n",
       "<table border=\"1\" class=\"dataframe\">\n",
       "  <thead>\n",
       "    <tr style=\"text-align: right;\">\n",
       "      <th></th>\n",
       "      <th>created_at</th>\n",
       "      <th>geo_source</th>\n",
       "      <th>estado</th>\n",
       "      <th>cidade</th>\n",
       "    </tr>\n",
       "  </thead>\n",
       "  <tbody>\n",
       "    <tr>\n",
       "      <th>0</th>\n",
       "      <td>2020-02-19 16:42:08+00:00</td>\n",
       "      <td>user_location</td>\n",
       "      <td>São Paulo</td>\n",
       "      <td>São Paulo</td>\n",
       "    </tr>\n",
       "    <tr>\n",
       "      <th>1</th>\n",
       "      <td>2020-02-19 19:49:00+00:00</td>\n",
       "      <td>user_location</td>\n",
       "      <td>São Paulo</td>\n",
       "      <td>São Paulo</td>\n",
       "    </tr>\n",
       "    <tr>\n",
       "      <th>2</th>\n",
       "      <td>2020-02-19 18:04:27+00:00</td>\n",
       "      <td>user_location</td>\n",
       "      <td>Minas Gerais</td>\n",
       "      <td>Belo Horizonte</td>\n",
       "    </tr>\n",
       "    <tr>\n",
       "      <th>3</th>\n",
       "      <td>2020-02-19 20:10:17+00:00</td>\n",
       "      <td>user_location</td>\n",
       "      <td>São Paulo</td>\n",
       "      <td>NaN</td>\n",
       "    </tr>\n",
       "    <tr>\n",
       "      <th>4</th>\n",
       "      <td>2020-02-19 18:47:44+00:00</td>\n",
       "      <td>user_location</td>\n",
       "      <td>Maranhão</td>\n",
       "      <td>NaN</td>\n",
       "    </tr>\n",
       "    <tr>\n",
       "      <th>...</th>\n",
       "      <td>...</td>\n",
       "      <td>...</td>\n",
       "      <td>...</td>\n",
       "      <td>...</td>\n",
       "    </tr>\n",
       "    <tr>\n",
       "      <th>1863367</th>\n",
       "      <td>2020-03-20 08:44:49+00:00</td>\n",
       "      <td>user_location</td>\n",
       "      <td>Rondônia</td>\n",
       "      <td>NaN</td>\n",
       "    </tr>\n",
       "    <tr>\n",
       "      <th>1863368</th>\n",
       "      <td>2020-03-20 10:57:02+00:00</td>\n",
       "      <td>user_location</td>\n",
       "      <td>NaN</td>\n",
       "      <td>NaN</td>\n",
       "    </tr>\n",
       "    <tr>\n",
       "      <th>1863369</th>\n",
       "      <td>2020-03-20 12:03:33+00:00</td>\n",
       "      <td>user_location</td>\n",
       "      <td>NaN</td>\n",
       "      <td>NaN</td>\n",
       "    </tr>\n",
       "    <tr>\n",
       "      <th>1863370</th>\n",
       "      <td>2020-03-20 09:50:36+00:00</td>\n",
       "      <td>user_location</td>\n",
       "      <td>NaN</td>\n",
       "      <td>NaN</td>\n",
       "    </tr>\n",
       "    <tr>\n",
       "      <th>1863371</th>\n",
       "      <td>2020-03-20 10:57:04+00:00</td>\n",
       "      <td>user_location</td>\n",
       "      <td>NaN</td>\n",
       "      <td>NaN</td>\n",
       "    </tr>\n",
       "  </tbody>\n",
       "</table>\n",
       "<p>1863372 rows × 4 columns</p>\n",
       "</div>"
      ],
      "text/plain": [
       "                        created_at     geo_source        estado  \\\n",
       "0        2020-02-19 16:42:08+00:00  user_location     São Paulo   \n",
       "1        2020-02-19 19:49:00+00:00  user_location     São Paulo   \n",
       "2        2020-02-19 18:04:27+00:00  user_location  Minas Gerais   \n",
       "3        2020-02-19 20:10:17+00:00  user_location     São Paulo   \n",
       "4        2020-02-19 18:47:44+00:00  user_location      Maranhão   \n",
       "...                            ...            ...           ...   \n",
       "1863367  2020-03-20 08:44:49+00:00  user_location      Rondônia   \n",
       "1863368  2020-03-20 10:57:02+00:00  user_location           NaN   \n",
       "1863369  2020-03-20 12:03:33+00:00  user_location           NaN   \n",
       "1863370  2020-03-20 09:50:36+00:00  user_location           NaN   \n",
       "1863371  2020-03-20 10:57:04+00:00  user_location           NaN   \n",
       "\n",
       "                 cidade  \n",
       "0             São Paulo  \n",
       "1             São Paulo  \n",
       "2        Belo Horizonte  \n",
       "3                   NaN  \n",
       "4                   NaN  \n",
       "...                 ...  \n",
       "1863367             NaN  \n",
       "1863368             NaN  \n",
       "1863369             NaN  \n",
       "1863370             NaN  \n",
       "1863371             NaN  \n",
       "\n",
       "[1863372 rows x 4 columns]"
      ]
     },
     "execution_count": 34,
     "metadata": {},
     "output_type": "execute_result"
    }
   ],
   "source": [
    "import pandas as pd\n",
    "df = pd.read_csv('tweets_covid_brasil.csv')\n",
    "df"
   ]
  },
  {
   "cell_type": "markdown",
   "id": "05306357-a087-430d-9ba1-a064192b3528",
   "metadata": {},
   "source": [
    "O conjunto possui 1.863.372 registros (ou linhas) e 4 colunas."
   ]
  },
  {
   "cell_type": "markdown",
   "id": "f68dc93d-de20-4eb2-b5fa-10837fdf0678",
   "metadata": {
    "tags": []
   },
   "source": [
    "### Descrevendo o conjunto\n",
    "<hr style=\"border:1px solid #0077b9;\">"
   ]
  },
  {
   "cell_type": "markdown",
   "id": "4efdbafe-e638-4bed-a020-7e2721ac4fca",
   "metadata": {},
   "source": [
    "Vamos visualizar uma descrição básica dos dados:"
   ]
  },
  {
   "cell_type": "code",
   "execution_count": 35,
   "id": "4e2a2c0a-4fb3-454b-ba97-849ebf312893",
   "metadata": {},
   "outputs": [
    {
     "data": {
      "text/html": [
       "<div>\n",
       "<style scoped>\n",
       "    .dataframe tbody tr th:only-of-type {\n",
       "        vertical-align: middle;\n",
       "    }\n",
       "\n",
       "    .dataframe tbody tr th {\n",
       "        vertical-align: top;\n",
       "    }\n",
       "\n",
       "    .dataframe thead th {\n",
       "        text-align: right;\n",
       "    }\n",
       "</style>\n",
       "<table border=\"1\" class=\"dataframe\">\n",
       "  <thead>\n",
       "    <tr style=\"text-align: right;\">\n",
       "      <th></th>\n",
       "      <th>created_at</th>\n",
       "      <th>geo_source</th>\n",
       "      <th>estado</th>\n",
       "      <th>cidade</th>\n",
       "    </tr>\n",
       "  </thead>\n",
       "  <tbody>\n",
       "    <tr>\n",
       "      <th>count</th>\n",
       "      <td>1863372</td>\n",
       "      <td>1863372</td>\n",
       "      <td>968815</td>\n",
       "      <td>622949</td>\n",
       "    </tr>\n",
       "    <tr>\n",
       "      <th>unique</th>\n",
       "      <td>1083140</td>\n",
       "      <td>3</td>\n",
       "      <td>28</td>\n",
       "      <td>1893</td>\n",
       "    </tr>\n",
       "    <tr>\n",
       "      <th>top</th>\n",
       "      <td>2020-03-15 02:21:53+00:00</td>\n",
       "      <td>user_location</td>\n",
       "      <td>São Paulo</td>\n",
       "      <td>Rio de Janeiro</td>\n",
       "    </tr>\n",
       "    <tr>\n",
       "      <th>freq</th>\n",
       "      <td>15</td>\n",
       "      <td>1833373</td>\n",
       "      <td>303951</td>\n",
       "      <td>106331</td>\n",
       "    </tr>\n",
       "  </tbody>\n",
       "</table>\n",
       "</div>"
      ],
      "text/plain": [
       "                       created_at     geo_source     estado          cidade\n",
       "count                     1863372        1863372     968815          622949\n",
       "unique                    1083140              3         28            1893\n",
       "top     2020-03-15 02:21:53+00:00  user_location  São Paulo  Rio de Janeiro\n",
       "freq                           15        1833373     303951          106331"
      ]
     },
     "execution_count": 35,
     "metadata": {},
     "output_type": "execute_result"
    }
   ],
   "source": [
    "df.describe()"
   ]
  },
  {
   "cell_type": "markdown",
   "id": "ce824697-b937-4ee6-9b6f-088727988372",
   "metadata": {},
   "source": [
    "Através dessa simples descrição já podemos extrair algumas informações interessantes como:\n",
    "\n",
    "<ul>\n",
    "    <li>A quantidade de registros com valores preenchidos não é a mesma para todos os campos. Enquanto <code>created_at</code> e <code>geo_source</code> possuem uma contagem de linhas iguais ao tamanho do DataFrame, <code>estado</code> e <code>cidade</code> têm menos registros, o que indica a presença de valores nulos.</li>\n",
    "    <li>Existem 3 valores únicos para o campo <code>geo_source</code> (o que condiz com o tratamento feito anteriormente), 28 valores únicos para <code>estado</code> e 1893 valores únicos para <code>cidade</code>. Sabemos que no Brasil existem 26 estados, mais o Distrito Federal, então o valor 28 deve ser investigado. Já para as cidades, o valor fica abaixo do número de 5570 municípios que consta na listagem do IBGE.</li>\n",
    "    <li>Em relação ao valor mais frequente, é possível dizer que <code>user_location</code> foi a fonte mais comum das informações geolocalizadas desses dados. São Paulo lidera como o estado com maior número de publicações geolocalizadas, mas é a cidade do Rio de Janeiro que detém o maior número de publicações.</li>\n",
    "</ul>\n",
    "<br>\n",
    "Essa descrição não apresenta dados estatísticos como média, mediana, mínimos e máximos (apesar dos campos <code>count</code> e <code>top</code>) porque a biblioteca <code>pandas</code> entendeu que todos os dados são categoricos, o que é verdade para a maioria deles, mas não todos. Vamos abordar a questão dos tipos a seguir.\n",
    "<br>\n",
    "Podemos analisar quais são os valores únicos das colunas <code>geo_source</code>, <code>estado</code> e <code>cidade</code>."
   ]
  },
  {
   "cell_type": "code",
   "execution_count": 36,
   "id": "eea0d793-b7ab-40c2-b379-80a198be04b4",
   "metadata": {},
   "outputs": [
    {
     "data": {
      "text/plain": [
       "array(['user_location', 'place', 'coordinates'], dtype=object)"
      ]
     },
     "execution_count": 36,
     "metadata": {},
     "output_type": "execute_result"
    }
   ],
   "source": [
    "df['geo_source'].unique()"
   ]
  },
  {
   "cell_type": "markdown",
   "id": "623905c6-b0a0-4fb5-999d-ab3f6d883c1e",
   "metadata": {},
   "source": [
    "O campo <code>geo_source</code> contém os valores 'user_location', 'place' e 'coordinates', o que está de acordo com as informações selecionadas no momento da coleta dos dados."
   ]
  },
  {
   "cell_type": "code",
   "execution_count": 37,
   "id": "a14e09f0-c204-43c9-9544-02bcebde2234",
   "metadata": {},
   "outputs": [
    {
     "data": {
      "text/plain": [
       "array(['São Paulo', 'Minas Gerais', 'Maranhão', nan, 'Rio de Janeiro',\n",
       "       'Rio Grande do Sul', 'Santa Catarina', 'Pará', 'Bahia', 'Paraíba',\n",
       "       'Paraná', 'Acre', 'Amazonas', 'Pernambuco', 'Mato Grosso', 'Amapá',\n",
       "       'Espírito Santo', 'Piauí', 'Ceará', 'Rondônia', 'Goiás',\n",
       "       'Rio Grande do Norte', 'Mato Grosso do Sul', 'Tocantins',\n",
       "       'Sergipe', 'Roraima', 'Alagoas', 'Federal District',\n",
       "       'South Region'], dtype=object)"
      ]
     },
     "execution_count": 37,
     "metadata": {},
     "output_type": "execute_result"
    }
   ],
   "source": [
    "df['estado'].unique()"
   ]
  },
  {
   "cell_type": "markdown",
   "id": "0b24b1f8-a555-455b-9e82-7fc0b83b9f7b",
   "metadata": {},
   "source": [
    "Aqui podemos ver que o campo <code>estado</code> contém os 26 estados brasileiros, o Distrito Federal (que aqui recebeu o nome de 'Federal District'), valores nulos (representado pelo valor 'nan') e um valor chamado 'South Region'. Consultando a <a href=\"https://developer.twitter.com/en/docs/tutorials/advanced-filtering-for-geo-data\">documentação dos dados do Twitter</a>, verificamos que o campo <code>state</code> fornecido pode estar relacionado também com província por conta de outros países e, nesse caso, 'South Region' faz referência à toda região sul do Brasil. Mais adiante, podemos analisar a relação dos registros com esse valor para o estado e tentar correlacionar a cidade com o estado."
   ]
  },
  {
   "cell_type": "code",
   "execution_count": 38,
   "id": "13652af9-d76b-45ba-a24f-45f94772c305",
   "metadata": {},
   "outputs": [
    {
     "data": {
      "text/plain": [
       "array(['São Paulo', 'Belo Horizonte', nan, ..., 'Ipuaçu', 'Nioaque',\n",
       "       'Conselheiro Mairinck'], dtype=object)"
      ]
     },
     "execution_count": 38,
     "metadata": {},
     "output_type": "execute_result"
    }
   ],
   "source": [
    "df['cidade'].unique()"
   ]
  },
  {
   "cell_type": "markdown",
   "id": "63e77a03-d572-466b-999a-69abd527536a",
   "metadata": {},
   "source": [
    "Para o campo <code>cidade</code>, como vimos na descrição acima, a quantidade de valores é muito grande para exibir todos unicamente."
   ]
  },
  {
   "cell_type": "markdown",
   "id": "95d9bdb8-3a1c-45f3-8384-65e3901920c3",
   "metadata": {
    "tags": []
   },
   "source": [
    "### Tipos\n",
    "<hr style=\"border:1px solid #0077b9;\">"
   ]
  },
  {
   "cell_type": "markdown",
   "id": "9c57eeb4-4c75-4fdb-a530-aab17efcdf5a",
   "metadata": {},
   "source": [
    "Vamos analisar os tipos de dados de cada uma das colunas:"
   ]
  },
  {
   "cell_type": "code",
   "execution_count": 39,
   "id": "4c046b7d-d5e4-4c25-a6bc-e7dc34b52c93",
   "metadata": {},
   "outputs": [
    {
     "data": {
      "text/plain": [
       "created_at    object\n",
       "geo_source    object\n",
       "estado        object\n",
       "cidade        object\n",
       "dtype: object"
      ]
     },
     "execution_count": 39,
     "metadata": {},
     "output_type": "execute_result"
    }
   ],
   "source": [
    "df.dtypes"
   ]
  },
  {
   "cell_type": "markdown",
   "id": "5aba97ac-3cc8-4922-9d94-92d7e0f895d4",
   "metadata": {},
   "source": [
    "Nesse ponto, todas as colunas são do tipo <code>object</code> o que, pela documentação da biblioteca <code>pandas</code>, representa um tipo de \"objeto arbitrário\" que \"deve ser evitado na medida do possível para desempenho e interoperabilidade com outras bibliotecas e métodos\". Cadeias de caracteres também são entendidas pela biblioteca como sendo desse tipo.\n",
    "<br><br>\n",
    "Sendo assim, é adequado que os devidos ajustes nos tipos sejam feitos. No caso do conjunto de dados que estamos analisando, o ajuste a ser feito é na coluna referente à data de criação da publicação, uma vez que se trata de um <code>timestamp</code>. As demais colunas podem ser mantidas como o tipo <code>object</code> por se tratarem de cadeia de caracteres. \n",
    "<br><br>\n",
    "Para converter o campo <code>created_at</code>, podemos empregar a função <code>to_datetime</code> da própria biblioteca:"
   ]
  },
  {
   "cell_type": "code",
   "execution_count": 40,
   "id": "fc2cfe4c-d00a-4837-bf95-22e016a538c9",
   "metadata": {},
   "outputs": [
    {
     "data": {
      "text/plain": [
       "created_at    datetime64[ns, UTC]\n",
       "geo_source                 object\n",
       "estado                     object\n",
       "cidade                     object\n",
       "dtype: object"
      ]
     },
     "execution_count": 40,
     "metadata": {},
     "output_type": "execute_result"
    }
   ],
   "source": [
    "df['created_at'] = pd.to_datetime(df['created_at'])\n",
    "df.dtypes"
   ]
  },
  {
   "cell_type": "markdown",
   "id": "f90b00f4-2106-490c-95de-7706d9df282b",
   "metadata": {},
   "source": [
    "Agora temos a coluna com o tipo mais adequado para o atributo <code>created_at</code>."
   ]
  },
  {
   "cell_type": "markdown",
   "id": "5f2ed418-e23b-4b23-9deb-d2416ad4f769",
   "metadata": {},
   "source": [
    "### Verficando a ausência de dados\n",
    "<hr style=\"border:1px solid #0077b9;\">"
   ]
  },
  {
   "cell_type": "markdown",
   "id": "432cca9d-54e9-4a60-96e0-6c1d2ac765ae",
   "metadata": {},
   "source": [
    "Uma questão importante antes de começarmos a trabalhar com os dados é verificar a quantidade de valores nulos, pois como vimos na seção de descrição dos dados, as colunas <code>estados</code> e <code>cidade</code> têm menos registros que o número total de registros do conjunto de dados. Podemos utilizar o comando a seguir para obter essa contagem:"
   ]
  },
  {
   "cell_type": "code",
   "execution_count": 41,
   "id": "2c81bffd-4e16-455c-a53e-5d89de549d13",
   "metadata": {},
   "outputs": [
    {
     "data": {
      "text/plain": [
       "created_at          0\n",
       "geo_source          0\n",
       "estado         894557\n",
       "cidade        1240423\n",
       "dtype: int64"
      ]
     },
     "execution_count": 41,
     "metadata": {},
     "output_type": "execute_result"
    }
   ],
   "source": [
    "df.isna().sum()"
   ]
  },
  {
   "cell_type": "markdown",
   "id": "7a5cf6d8-c491-4627-8b59-83b142653232",
   "metadata": {},
   "source": [
    "O atributo <code>estado</code> tem 894.557 registro nulos, o que também significa dizer que são <b>968.815</b> registros que foram preenchidos. Já  <code>cidade</code> tem 1.240.423 registros nulos, ou seja, <b>622.949</b> registros preenchidos. Isso se deve ao fato de que essas informaçõe não são obrigatoriamente preenchidas ou retornadas pelo Twitter. Vale lembrar que para a etapa de coleta dos dados, bastava que a publicação tivesse origem no Brasil.\n",
    "<br>\n",
    "Como não é possível inferir o estado e cidade de origem desses dados para preencher os valores ausentes, vamos criar uma categoria chamada 'N.I' (Não Informado) para esses dados. Podemos usar o código abaixo para realizar esse preenchimento:"
   ]
  },
  {
   "cell_type": "code",
   "execution_count": 42,
   "id": "67e0b620-2a48-471f-9a44-c6564fe00a52",
   "metadata": {},
   "outputs": [],
   "source": [
    "df.fillna('N.I.', axis=1, inplace=True)"
   ]
  },
  {
   "cell_type": "markdown",
   "id": "18e22539-43d5-4671-bf8b-91a6e8005ebd",
   "metadata": {},
   "source": [
    "Podemos realizar a contagem dos valores nulos novamente para verificar se a alteração surtiu efeito:"
   ]
  },
  {
   "cell_type": "code",
   "execution_count": 43,
   "id": "008f12dc-1004-4d9f-8e91-a469b6e972e2",
   "metadata": {},
   "outputs": [
    {
     "data": {
      "text/plain": [
       "created_at    0\n",
       "geo_source    0\n",
       "estado        0\n",
       "cidade        0\n",
       "dtype: int64"
      ]
     },
     "execution_count": 43,
     "metadata": {},
     "output_type": "execute_result"
    }
   ],
   "source": [
    "df.isna().sum()"
   ]
  },
  {
   "cell_type": "markdown",
   "id": "f6b08f01-2294-4f77-ac1b-1a384a8fa9e6",
   "metadata": {},
   "source": [
    "### Aplicando algumas transformações\n",
    "<hr style=\"border:1px solid #0077b9;\">"
   ]
  },
  {
   "cell_type": "markdown",
   "id": "0083db19-6dff-4ecf-b769-b03e47ccf6a3",
   "metadata": {},
   "source": [
    "Para facilitar a manipulação dos dados nas análises a seguir, vamos realizar pequenas tranformações no dado. Primeiramente, vamos criar um campo <code>sigla</code> baseado no nome do estado."
   ]
  },
  {
   "cell_type": "code",
   "execution_count": 44,
   "id": "b9a5bcb3-05d5-4b73-9b26-b5174c007dfb",
   "metadata": {},
   "outputs": [
    {
     "data": {
      "text/html": [
       "<div>\n",
       "<style scoped>\n",
       "    .dataframe tbody tr th:only-of-type {\n",
       "        vertical-align: middle;\n",
       "    }\n",
       "\n",
       "    .dataframe tbody tr th {\n",
       "        vertical-align: top;\n",
       "    }\n",
       "\n",
       "    .dataframe thead th {\n",
       "        text-align: right;\n",
       "    }\n",
       "</style>\n",
       "<table border=\"1\" class=\"dataframe\">\n",
       "  <thead>\n",
       "    <tr style=\"text-align: right;\">\n",
       "      <th></th>\n",
       "      <th>created_at</th>\n",
       "      <th>geo_source</th>\n",
       "      <th>estado</th>\n",
       "      <th>cidade</th>\n",
       "      <th>sigla</th>\n",
       "    </tr>\n",
       "  </thead>\n",
       "  <tbody>\n",
       "    <tr>\n",
       "      <th>0</th>\n",
       "      <td>2020-02-19 16:42:08+00:00</td>\n",
       "      <td>user_location</td>\n",
       "      <td>São Paulo</td>\n",
       "      <td>São Paulo</td>\n",
       "      <td>SP</td>\n",
       "    </tr>\n",
       "    <tr>\n",
       "      <th>1</th>\n",
       "      <td>2020-02-19 19:49:00+00:00</td>\n",
       "      <td>user_location</td>\n",
       "      <td>São Paulo</td>\n",
       "      <td>São Paulo</td>\n",
       "      <td>SP</td>\n",
       "    </tr>\n",
       "    <tr>\n",
       "      <th>2</th>\n",
       "      <td>2020-02-19 18:04:27+00:00</td>\n",
       "      <td>user_location</td>\n",
       "      <td>Minas Gerais</td>\n",
       "      <td>Belo Horizonte</td>\n",
       "      <td>MG</td>\n",
       "    </tr>\n",
       "    <tr>\n",
       "      <th>3</th>\n",
       "      <td>2020-02-19 20:10:17+00:00</td>\n",
       "      <td>user_location</td>\n",
       "      <td>São Paulo</td>\n",
       "      <td>N.I.</td>\n",
       "      <td>SP</td>\n",
       "    </tr>\n",
       "    <tr>\n",
       "      <th>4</th>\n",
       "      <td>2020-02-19 18:47:44+00:00</td>\n",
       "      <td>user_location</td>\n",
       "      <td>Maranhão</td>\n",
       "      <td>N.I.</td>\n",
       "      <td>MA</td>\n",
       "    </tr>\n",
       "    <tr>\n",
       "      <th>...</th>\n",
       "      <td>...</td>\n",
       "      <td>...</td>\n",
       "      <td>...</td>\n",
       "      <td>...</td>\n",
       "      <td>...</td>\n",
       "    </tr>\n",
       "    <tr>\n",
       "      <th>1863367</th>\n",
       "      <td>2020-03-20 08:44:49+00:00</td>\n",
       "      <td>user_location</td>\n",
       "      <td>Rondônia</td>\n",
       "      <td>N.I.</td>\n",
       "      <td>RO</td>\n",
       "    </tr>\n",
       "    <tr>\n",
       "      <th>1863368</th>\n",
       "      <td>2020-03-20 10:57:02+00:00</td>\n",
       "      <td>user_location</td>\n",
       "      <td>N.I.</td>\n",
       "      <td>N.I.</td>\n",
       "      <td>N.I</td>\n",
       "    </tr>\n",
       "    <tr>\n",
       "      <th>1863369</th>\n",
       "      <td>2020-03-20 12:03:33+00:00</td>\n",
       "      <td>user_location</td>\n",
       "      <td>N.I.</td>\n",
       "      <td>N.I.</td>\n",
       "      <td>N.I</td>\n",
       "    </tr>\n",
       "    <tr>\n",
       "      <th>1863370</th>\n",
       "      <td>2020-03-20 09:50:36+00:00</td>\n",
       "      <td>user_location</td>\n",
       "      <td>N.I.</td>\n",
       "      <td>N.I.</td>\n",
       "      <td>N.I</td>\n",
       "    </tr>\n",
       "    <tr>\n",
       "      <th>1863371</th>\n",
       "      <td>2020-03-20 10:57:04+00:00</td>\n",
       "      <td>user_location</td>\n",
       "      <td>N.I.</td>\n",
       "      <td>N.I.</td>\n",
       "      <td>N.I</td>\n",
       "    </tr>\n",
       "  </tbody>\n",
       "</table>\n",
       "<p>1863372 rows × 5 columns</p>\n",
       "</div>"
      ],
      "text/plain": [
       "                       created_at     geo_source        estado  \\\n",
       "0       2020-02-19 16:42:08+00:00  user_location     São Paulo   \n",
       "1       2020-02-19 19:49:00+00:00  user_location     São Paulo   \n",
       "2       2020-02-19 18:04:27+00:00  user_location  Minas Gerais   \n",
       "3       2020-02-19 20:10:17+00:00  user_location     São Paulo   \n",
       "4       2020-02-19 18:47:44+00:00  user_location      Maranhão   \n",
       "...                           ...            ...           ...   \n",
       "1863367 2020-03-20 08:44:49+00:00  user_location      Rondônia   \n",
       "1863368 2020-03-20 10:57:02+00:00  user_location          N.I.   \n",
       "1863369 2020-03-20 12:03:33+00:00  user_location          N.I.   \n",
       "1863370 2020-03-20 09:50:36+00:00  user_location          N.I.   \n",
       "1863371 2020-03-20 10:57:04+00:00  user_location          N.I.   \n",
       "\n",
       "                 cidade sigla  \n",
       "0             São Paulo    SP  \n",
       "1             São Paulo    SP  \n",
       "2        Belo Horizonte    MG  \n",
       "3                  N.I.    SP  \n",
       "4                  N.I.    MA  \n",
       "...                 ...   ...  \n",
       "1863367            N.I.    RO  \n",
       "1863368            N.I.   N.I  \n",
       "1863369            N.I.   N.I  \n",
       "1863370            N.I.   N.I  \n",
       "1863371            N.I.   N.I  \n",
       "\n",
       "[1863372 rows x 5 columns]"
      ]
     },
     "execution_count": 44,
     "metadata": {},
     "output_type": "execute_result"
    }
   ],
   "source": [
    "estados = {\n",
    "    'Acre':'AC',\n",
    "    'Alagoas':'AL',\n",
    "    'Amapá':'AP',\n",
    "    'Amazonas':'AM',\n",
    "    'Bahia':'BA',\n",
    "    'Ceará':'CE',\n",
    "    'Federal District':'DF',\n",
    "    'Espírito Santo':'ES',\n",
    "    'Goiás':'GO',\n",
    "    'Maranhão':'MA',\n",
    "    'Mato Grosso':'MT',\n",
    "    'Mato Grosso do Sul':'MS',\n",
    "    'Minas Gerais':'MG',\n",
    "    'Pará':'PA',\n",
    "    'Paraíba':'PB',\n",
    "    'Paraná':'PR',\n",
    "    'Pernambuco':'PE',\n",
    "    'Piauí':'PI',\n",
    "    'Rio de Janeiro':'RJ',\n",
    "    'Rio Grande do Norte':'RN',\n",
    "    'Rio Grande do Sul':'RS',\n",
    "    'Rondônia':'RO',\n",
    "    'Roraima':'RR',\n",
    "    'Santa Catarina':'SC',\n",
    "    'São Paulo':'SP',\n",
    "    'Sergipe':'SE',\n",
    "    'Tocantins':'TO',\n",
    "    'N.I.':'N.I'\n",
    "}\n",
    "\n",
    "df['sigla']=df['estado'].map(estados)\n",
    "df"
   ]
  },
  {
   "cell_type": "markdown",
   "id": "4bad4e9b-5d92-4e93-ad01-f83a342e2800",
   "metadata": {},
   "source": [
    "Vamos também separar a coluna <code>created_at</code> em duas colunas: 'data' e 'horario'."
   ]
  },
  {
   "cell_type": "code",
   "execution_count": 45,
   "id": "79a31e89-f8dd-4a32-8193-4234cf4ba615",
   "metadata": {},
   "outputs": [
    {
     "data": {
      "text/html": [
       "<div>\n",
       "<style scoped>\n",
       "    .dataframe tbody tr th:only-of-type {\n",
       "        vertical-align: middle;\n",
       "    }\n",
       "\n",
       "    .dataframe tbody tr th {\n",
       "        vertical-align: top;\n",
       "    }\n",
       "\n",
       "    .dataframe thead th {\n",
       "        text-align: right;\n",
       "    }\n",
       "</style>\n",
       "<table border=\"1\" class=\"dataframe\">\n",
       "  <thead>\n",
       "    <tr style=\"text-align: right;\">\n",
       "      <th></th>\n",
       "      <th>created_at</th>\n",
       "      <th>geo_source</th>\n",
       "      <th>estado</th>\n",
       "      <th>cidade</th>\n",
       "      <th>sigla</th>\n",
       "      <th>data</th>\n",
       "      <th>horario</th>\n",
       "    </tr>\n",
       "  </thead>\n",
       "  <tbody>\n",
       "    <tr>\n",
       "      <th>0</th>\n",
       "      <td>2020-02-19 16:42:08+00:00</td>\n",
       "      <td>user_location</td>\n",
       "      <td>São Paulo</td>\n",
       "      <td>São Paulo</td>\n",
       "      <td>SP</td>\n",
       "      <td>2020-02-19</td>\n",
       "      <td>16:42:08</td>\n",
       "    </tr>\n",
       "    <tr>\n",
       "      <th>1</th>\n",
       "      <td>2020-02-19 19:49:00+00:00</td>\n",
       "      <td>user_location</td>\n",
       "      <td>São Paulo</td>\n",
       "      <td>São Paulo</td>\n",
       "      <td>SP</td>\n",
       "      <td>2020-02-19</td>\n",
       "      <td>19:49:00</td>\n",
       "    </tr>\n",
       "    <tr>\n",
       "      <th>2</th>\n",
       "      <td>2020-02-19 18:04:27+00:00</td>\n",
       "      <td>user_location</td>\n",
       "      <td>Minas Gerais</td>\n",
       "      <td>Belo Horizonte</td>\n",
       "      <td>MG</td>\n",
       "      <td>2020-02-19</td>\n",
       "      <td>18:04:27</td>\n",
       "    </tr>\n",
       "    <tr>\n",
       "      <th>3</th>\n",
       "      <td>2020-02-19 20:10:17+00:00</td>\n",
       "      <td>user_location</td>\n",
       "      <td>São Paulo</td>\n",
       "      <td>N.I.</td>\n",
       "      <td>SP</td>\n",
       "      <td>2020-02-19</td>\n",
       "      <td>20:10:17</td>\n",
       "    </tr>\n",
       "    <tr>\n",
       "      <th>4</th>\n",
       "      <td>2020-02-19 18:47:44+00:00</td>\n",
       "      <td>user_location</td>\n",
       "      <td>Maranhão</td>\n",
       "      <td>N.I.</td>\n",
       "      <td>MA</td>\n",
       "      <td>2020-02-19</td>\n",
       "      <td>18:47:44</td>\n",
       "    </tr>\n",
       "    <tr>\n",
       "      <th>...</th>\n",
       "      <td>...</td>\n",
       "      <td>...</td>\n",
       "      <td>...</td>\n",
       "      <td>...</td>\n",
       "      <td>...</td>\n",
       "      <td>...</td>\n",
       "      <td>...</td>\n",
       "    </tr>\n",
       "    <tr>\n",
       "      <th>1863367</th>\n",
       "      <td>2020-03-20 08:44:49+00:00</td>\n",
       "      <td>user_location</td>\n",
       "      <td>Rondônia</td>\n",
       "      <td>N.I.</td>\n",
       "      <td>RO</td>\n",
       "      <td>2020-03-20</td>\n",
       "      <td>08:44:49</td>\n",
       "    </tr>\n",
       "    <tr>\n",
       "      <th>1863368</th>\n",
       "      <td>2020-03-20 10:57:02+00:00</td>\n",
       "      <td>user_location</td>\n",
       "      <td>N.I.</td>\n",
       "      <td>N.I.</td>\n",
       "      <td>N.I</td>\n",
       "      <td>2020-03-20</td>\n",
       "      <td>10:57:02</td>\n",
       "    </tr>\n",
       "    <tr>\n",
       "      <th>1863369</th>\n",
       "      <td>2020-03-20 12:03:33+00:00</td>\n",
       "      <td>user_location</td>\n",
       "      <td>N.I.</td>\n",
       "      <td>N.I.</td>\n",
       "      <td>N.I</td>\n",
       "      <td>2020-03-20</td>\n",
       "      <td>12:03:33</td>\n",
       "    </tr>\n",
       "    <tr>\n",
       "      <th>1863370</th>\n",
       "      <td>2020-03-20 09:50:36+00:00</td>\n",
       "      <td>user_location</td>\n",
       "      <td>N.I.</td>\n",
       "      <td>N.I.</td>\n",
       "      <td>N.I</td>\n",
       "      <td>2020-03-20</td>\n",
       "      <td>09:50:36</td>\n",
       "    </tr>\n",
       "    <tr>\n",
       "      <th>1863371</th>\n",
       "      <td>2020-03-20 10:57:04+00:00</td>\n",
       "      <td>user_location</td>\n",
       "      <td>N.I.</td>\n",
       "      <td>N.I.</td>\n",
       "      <td>N.I</td>\n",
       "      <td>2020-03-20</td>\n",
       "      <td>10:57:04</td>\n",
       "    </tr>\n",
       "  </tbody>\n",
       "</table>\n",
       "<p>1863372 rows × 7 columns</p>\n",
       "</div>"
      ],
      "text/plain": [
       "                       created_at     geo_source        estado  \\\n",
       "0       2020-02-19 16:42:08+00:00  user_location     São Paulo   \n",
       "1       2020-02-19 19:49:00+00:00  user_location     São Paulo   \n",
       "2       2020-02-19 18:04:27+00:00  user_location  Minas Gerais   \n",
       "3       2020-02-19 20:10:17+00:00  user_location     São Paulo   \n",
       "4       2020-02-19 18:47:44+00:00  user_location      Maranhão   \n",
       "...                           ...            ...           ...   \n",
       "1863367 2020-03-20 08:44:49+00:00  user_location      Rondônia   \n",
       "1863368 2020-03-20 10:57:02+00:00  user_location          N.I.   \n",
       "1863369 2020-03-20 12:03:33+00:00  user_location          N.I.   \n",
       "1863370 2020-03-20 09:50:36+00:00  user_location          N.I.   \n",
       "1863371 2020-03-20 10:57:04+00:00  user_location          N.I.   \n",
       "\n",
       "                 cidade sigla        data   horario  \n",
       "0             São Paulo    SP  2020-02-19  16:42:08  \n",
       "1             São Paulo    SP  2020-02-19  19:49:00  \n",
       "2        Belo Horizonte    MG  2020-02-19  18:04:27  \n",
       "3                  N.I.    SP  2020-02-19  20:10:17  \n",
       "4                  N.I.    MA  2020-02-19  18:47:44  \n",
       "...                 ...   ...         ...       ...  \n",
       "1863367            N.I.    RO  2020-03-20  08:44:49  \n",
       "1863368            N.I.   N.I  2020-03-20  10:57:02  \n",
       "1863369            N.I.   N.I  2020-03-20  12:03:33  \n",
       "1863370            N.I.   N.I  2020-03-20  09:50:36  \n",
       "1863371            N.I.   N.I  2020-03-20  10:57:04  \n",
       "\n",
       "[1863372 rows x 7 columns]"
      ]
     },
     "execution_count": 45,
     "metadata": {},
     "output_type": "execute_result"
    }
   ],
   "source": [
    "df['data'] = pd.to_datetime(df['created_at']).dt.date\n",
    "df['horario'] = pd.to_datetime(df['created_at']).dt.time\n",
    "df"
   ]
  },
  {
   "cell_type": "code",
   "execution_count": 48,
   "id": "5fe05730-12cd-4888-8d51-e656d3cefe23",
   "metadata": {},
   "outputs": [
    {
     "data": {
      "text/html": [
       "<div>\n",
       "<style scoped>\n",
       "    .dataframe tbody tr th:only-of-type {\n",
       "        vertical-align: middle;\n",
       "    }\n",
       "\n",
       "    .dataframe tbody tr th {\n",
       "        vertical-align: top;\n",
       "    }\n",
       "\n",
       "    .dataframe thead th {\n",
       "        text-align: right;\n",
       "    }\n",
       "</style>\n",
       "<table border=\"1\" class=\"dataframe\">\n",
       "  <thead>\n",
       "    <tr style=\"text-align: right;\">\n",
       "      <th></th>\n",
       "      <th>created_at</th>\n",
       "      <th>geo_source</th>\n",
       "      <th>estado</th>\n",
       "      <th>cidade</th>\n",
       "      <th>sigla</th>\n",
       "      <th>data</th>\n",
       "      <th>horario</th>\n",
       "    </tr>\n",
       "  </thead>\n",
       "  <tbody>\n",
       "  </tbody>\n",
       "</table>\n",
       "</div>"
      ],
      "text/plain": [
       "Empty DataFrame\n",
       "Columns: [created_at, geo_source, estado, cidade, sigla, data, horario]\n",
       "Index: []"
      ]
     },
     "execution_count": 48,
     "metadata": {},
     "output_type": "execute_result"
    }
   ],
   "source": [
    "mascara_south_region = (df['estado'] == 'South Region') & (df['cidade'] != 'N.I.')\n",
    "df.loc[mascara_south_region]"
   ]
  },
  {
   "cell_type": "markdown",
   "id": "3c48840b-6ff1-47c9-923c-edd273f1f743",
   "metadata": {},
   "source": [
    "### Explorando o dado\n",
    "<hr style=\"border:1px solid #0077b9;\">"
   ]
  },
  {
   "cell_type": "markdown",
   "id": "29a6f73e-0fed-403a-845b-72530439e871",
   "metadata": {},
   "source": [
    "Agora que preparamos o dado, podemos investigar algumas questões.\n",
    "<ul>\n",
    "    <li>Qual a distribuição das publicações relacionadas ao COVID ao longo do tempo no Brasil?</li>\n",
    "    <li>Qual o ranking dos 10 estados que mais publicaram sobre o COVID? E as 10 cidades?</li>\n",
    "</ul>"
   ]
  },
  {
   "cell_type": "code",
   "execution_count": null,
   "id": "6e586c37-2bb1-4819-b927-b84c234c475f",
   "metadata": {},
   "outputs": [],
   "source": []
  }
 ],
 "metadata": {
  "kernelspec": {
   "display_name": "Python 3 (ipykernel)",
   "language": "python",
   "name": "python3"
  },
  "language_info": {
   "codemirror_mode": {
    "name": "ipython",
    "version": 3
   },
   "file_extension": ".py",
   "mimetype": "text/x-python",
   "name": "python",
   "nbconvert_exporter": "python",
   "pygments_lexer": "ipython3",
   "version": "3.9.12"
  }
 },
 "nbformat": 4,
 "nbformat_minor": 5
}

{
 "cells": [
  {
   "cell_type": "markdown",
   "id": "9c9aee63-e48b-43a8-9111-fe30bfabce60",
   "metadata": {},
   "source": [
    "# <span>Analisando os dados</span>\n",
    "<hr style=\"border:2px solid #0077b9;\">\n",
    "\n",
    "<br/>\n",
    "\n",
    "<div style=\"text-align: center;font-size: 90%;\">\n",
    "    Autor: Flávio Belizário da Silva Mota\n",
    "    <br/><br/>\n",
    "    Instituto Nacional de Pesquisas Espaciais (INPE)\n",
    "    <br/>\n",
    "    Avenida dos Astronautas, 1758, Jardim da Granja, São José dos Campos, SP 12227-010, Brazil\n",
    "    <br/><br/>\n",
    "    Contato: <a href=\"mailto:flavio.belizario.mota@gmail.com\">flavio.belizario.mota@gmail.com</a>\n",
    "    <br/>\n",
    "    Professor: Rafael Santos\n",
    "</div>\n",
    "\n",
    "<br/>\n",
    "\n",
    "<div style=\"text-align: justify;  margin-left: 25%; margin-right: 25%;\">\n",
    "<b>Objetivo.</b> Esse caderno Jupyter tem como objetivo apresentar a análise dos dados para o projeto da disciplina CAP394 - Introdução à Ciência de Dados. Os dados são provenientes do projeto CRISIS NLP e foram coletados utilizando publicações do Twitter referentes à pandemia de COVID-19. O conjunto utilizado para a análise foi coletado e tratado em uma etapa prévia (vide: coleta) e contém informações sobre data de criação de uma publicação, origem da informação geolocalizada do dado e o estado e cidade de origem da publicação.\n",
    "</div>\n",
    "\n",
    "<br/>\n",
    "<div style=\"text-align: center;font-size: 90%;\">\n",
    "    <b>Os dados podem ser encontrados em:</b>\n",
    "    <div style=\"margin-left: 10px; margin-right: 10px\">\n",
    "    https://crisisnlp.qcri.org/covid19\n",
    "    </div>\n",
    "</div>"
   ]
  },
  {
   "cell_type": "markdown",
   "id": "a9cf4c74-008e-49b4-80b9-b160518f1046",
   "metadata": {},
   "source": [
    "## Analisando os dados\n",
    "<hr style=\"border:2px solid #0077b9;\">"
   ]
  },
  {
   "cell_type": "markdown",
   "id": "d3d43777-b386-475c-9c4c-2594c57e00b4",
   "metadata": {},
   "source": [
    "### O conjunto de dados\n",
    "<hr style=\"border:1px solid #0077b9;\">"
   ]
  },
  {
   "cell_type": "markdown",
   "id": "02a44a66-bb99-4687-88e3-076e19096f06",
   "metadata": {},
   "source": [
    "O conjunto de dados empregado nas análises a seguir foi elaborado na etapa de coleta e tratamento deste trabalho (vide: coleta). Em resumo, são dados provenientes de publicações do Twitter referentes à pandemia de COVID-19. Especificamente, o conjunto a seguir contém informações sobre a data de criação, fonte das informações geolocalizadas do dado e cidade e estado de publicações com origem no Brasil entre os dias 19 de fevereiro e 20 de março de 2020.\n",
    "<br><br>\n",
    "Vamos iniciar nossa análise carregando o conjunto. Bibliotecas necessárias para a análise serão importadas ao longo do caderno."
   ]
  },
  {
   "cell_type": "code",
   "execution_count": 1,
   "id": "92b0af55-9d9d-4dcf-9ad0-059ba5de592c",
   "metadata": {},
   "outputs": [
    {
     "data": {
      "text/html": [
       "<div>\n",
       "<style scoped>\n",
       "    .dataframe tbody tr th:only-of-type {\n",
       "        vertical-align: middle;\n",
       "    }\n",
       "\n",
       "    .dataframe tbody tr th {\n",
       "        vertical-align: top;\n",
       "    }\n",
       "\n",
       "    .dataframe thead th {\n",
       "        text-align: right;\n",
       "    }\n",
       "</style>\n",
       "<table border=\"1\" class=\"dataframe\">\n",
       "  <thead>\n",
       "    <tr style=\"text-align: right;\">\n",
       "      <th></th>\n",
       "      <th>created_at</th>\n",
       "      <th>geo_source</th>\n",
       "      <th>estado</th>\n",
       "      <th>cidade</th>\n",
       "    </tr>\n",
       "  </thead>\n",
       "  <tbody>\n",
       "    <tr>\n",
       "      <th>0</th>\n",
       "      <td>2020-02-19 16:42:08+00:00</td>\n",
       "      <td>user_location</td>\n",
       "      <td>São Paulo</td>\n",
       "      <td>São Paulo</td>\n",
       "    </tr>\n",
       "    <tr>\n",
       "      <th>1</th>\n",
       "      <td>2020-02-19 19:49:00+00:00</td>\n",
       "      <td>user_location</td>\n",
       "      <td>São Paulo</td>\n",
       "      <td>São Paulo</td>\n",
       "    </tr>\n",
       "    <tr>\n",
       "      <th>2</th>\n",
       "      <td>2020-02-19 18:04:27+00:00</td>\n",
       "      <td>user_location</td>\n",
       "      <td>Minas Gerais</td>\n",
       "      <td>Belo Horizonte</td>\n",
       "    </tr>\n",
       "    <tr>\n",
       "      <th>3</th>\n",
       "      <td>2020-02-19 20:10:17+00:00</td>\n",
       "      <td>user_location</td>\n",
       "      <td>São Paulo</td>\n",
       "      <td>NaN</td>\n",
       "    </tr>\n",
       "    <tr>\n",
       "      <th>4</th>\n",
       "      <td>2020-02-19 18:47:44+00:00</td>\n",
       "      <td>user_location</td>\n",
       "      <td>Maranhão</td>\n",
       "      <td>NaN</td>\n",
       "    </tr>\n",
       "    <tr>\n",
       "      <th>...</th>\n",
       "      <td>...</td>\n",
       "      <td>...</td>\n",
       "      <td>...</td>\n",
       "      <td>...</td>\n",
       "    </tr>\n",
       "    <tr>\n",
       "      <th>1863367</th>\n",
       "      <td>2020-03-20 08:44:49+00:00</td>\n",
       "      <td>user_location</td>\n",
       "      <td>Rondônia</td>\n",
       "      <td>NaN</td>\n",
       "    </tr>\n",
       "    <tr>\n",
       "      <th>1863368</th>\n",
       "      <td>2020-03-20 10:57:02+00:00</td>\n",
       "      <td>user_location</td>\n",
       "      <td>NaN</td>\n",
       "      <td>NaN</td>\n",
       "    </tr>\n",
       "    <tr>\n",
       "      <th>1863369</th>\n",
       "      <td>2020-03-20 12:03:33+00:00</td>\n",
       "      <td>user_location</td>\n",
       "      <td>NaN</td>\n",
       "      <td>NaN</td>\n",
       "    </tr>\n",
       "    <tr>\n",
       "      <th>1863370</th>\n",
       "      <td>2020-03-20 09:50:36+00:00</td>\n",
       "      <td>user_location</td>\n",
       "      <td>NaN</td>\n",
       "      <td>NaN</td>\n",
       "    </tr>\n",
       "    <tr>\n",
       "      <th>1863371</th>\n",
       "      <td>2020-03-20 10:57:04+00:00</td>\n",
       "      <td>user_location</td>\n",
       "      <td>NaN</td>\n",
       "      <td>NaN</td>\n",
       "    </tr>\n",
       "  </tbody>\n",
       "</table>\n",
       "<p>1863372 rows × 4 columns</p>\n",
       "</div>"
      ],
      "text/plain": [
       "                        created_at     geo_source        estado  \\\n",
       "0        2020-02-19 16:42:08+00:00  user_location     São Paulo   \n",
       "1        2020-02-19 19:49:00+00:00  user_location     São Paulo   \n",
       "2        2020-02-19 18:04:27+00:00  user_location  Minas Gerais   \n",
       "3        2020-02-19 20:10:17+00:00  user_location     São Paulo   \n",
       "4        2020-02-19 18:47:44+00:00  user_location      Maranhão   \n",
       "...                            ...            ...           ...   \n",
       "1863367  2020-03-20 08:44:49+00:00  user_location      Rondônia   \n",
       "1863368  2020-03-20 10:57:02+00:00  user_location           NaN   \n",
       "1863369  2020-03-20 12:03:33+00:00  user_location           NaN   \n",
       "1863370  2020-03-20 09:50:36+00:00  user_location           NaN   \n",
       "1863371  2020-03-20 10:57:04+00:00  user_location           NaN   \n",
       "\n",
       "                 cidade  \n",
       "0             São Paulo  \n",
       "1             São Paulo  \n",
       "2        Belo Horizonte  \n",
       "3                   NaN  \n",
       "4                   NaN  \n",
       "...                 ...  \n",
       "1863367             NaN  \n",
       "1863368             NaN  \n",
       "1863369             NaN  \n",
       "1863370             NaN  \n",
       "1863371             NaN  \n",
       "\n",
       "[1863372 rows x 4 columns]"
      ]
     },
     "execution_count": 1,
     "metadata": {},
     "output_type": "execute_result"
    }
   ],
   "source": [
    "import pandas as pd\n",
    "df = pd.read_csv('tweets_covid_brasil.csv')\n",
    "df"
   ]
  },
  {
   "cell_type": "markdown",
   "id": "05306357-a087-430d-9ba1-a064192b3528",
   "metadata": {},
   "source": [
    "O conjunto possui 1.863.372 registros (ou linhas) e 4 colunas. Podemos verificar o tipo de cada uma das colunas:"
   ]
  },
  {
   "cell_type": "code",
   "execution_count": 3,
   "id": "4c046b7d-d5e4-4c25-a6bc-e7dc34b52c93",
   "metadata": {},
   "outputs": [
    {
     "data": {
      "text/plain": [
       "created_at    object\n",
       "geo_source    object\n",
       "estado        object\n",
       "cidade        object\n",
       "dtype: object"
      ]
     },
     "execution_count": 3,
     "metadata": {},
     "output_type": "execute_result"
    }
   ],
   "source": [
    "df.dtypes"
   ]
  },
  {
   "cell_type": "markdown",
   "id": "5aba97ac-3cc8-4922-9d94-92d7e0f895d4",
   "metadata": {},
   "source": [
    "Nesse ponto, todas as colunas são do tipo <code>object</code> o que, pela documentação da biblioteca <code>pandas</code>, representa um tipo de \"objeto arbitrário\" que \"deve ser evitado na medida do possível para desempenho e interoperabilidade com outras bibliotecas e métodos\". Cadeias de caracteres também são entendidas pela biblioteca como sendo desse tipo.\n",
    "<br><br>\n",
    "Sendo assim, é adequado que os devidos ajustes nos tipos sejam feitos. No caso do conjunto de dados que estamos analisando, o ajuste a ser feito é na coluna referente à data de criação da publicação, uma vez que se trata de um <code>timestamp</code>. As demais colunas podem ser mantidas como o tipo <code>object</code> por se tratarem de cadeia de caracteres. \n",
    "<br><br>\n",
    "Para converter o campo <code>created_at</code>, podemos empregar a função <code>to_datetime</code> da própria biblioteca:"
   ]
  },
  {
   "cell_type": "code",
   "execution_count": 4,
   "id": "fc2cfe4c-d00a-4837-bf95-22e016a538c9",
   "metadata": {},
   "outputs": [
    {
     "data": {
      "text/plain": [
       "created_at    datetime64[ns, UTC]\n",
       "geo_source                 object\n",
       "estado                     object\n",
       "cidade                     object\n",
       "dtype: object"
      ]
     },
     "execution_count": 4,
     "metadata": {},
     "output_type": "execute_result"
    }
   ],
   "source": [
    "df['created_at'] = pd.to_datetime(df['created_at'])\n",
    "df.dtypes"
   ]
  },
  {
   "cell_type": "markdown",
   "id": "f90b00f4-2106-490c-95de-7706d9df282b",
   "metadata": {},
   "source": [
    "Agora temos a coluna com o tipo correto."
   ]
  },
  {
   "cell_type": "markdown",
   "id": "5f2ed418-e23b-4b23-9deb-d2416ad4f769",
   "metadata": {},
   "source": [
    "### Verficando a ausência de dados\n",
    "<hr style=\"border:1px solid #0077b9;\">"
   ]
  },
  {
   "cell_type": "markdown",
   "id": "432cca9d-54e9-4a60-96e0-6c1d2ac765ae",
   "metadata": {},
   "source": []
  },
  {
   "cell_type": "code",
   "execution_count": null,
   "id": "2c81bffd-4e16-455c-a53e-5d89de549d13",
   "metadata": {},
   "outputs": [],
   "source": []
  },
  {
   "cell_type": "code",
   "execution_count": null,
   "id": "f2865a33-4857-4ad2-aaec-cd433066dd5e",
   "metadata": {},
   "outputs": [],
   "source": []
  },
  {
   "cell_type": "code",
   "execution_count": null,
   "id": "67e0b620-2a48-471f-9a44-c6564fe00a52",
   "metadata": {},
   "outputs": [],
   "source": []
  },
  {
   "cell_type": "code",
   "execution_count": null,
   "id": "b9a5bcb3-05d5-4b73-9b26-b5174c007dfb",
   "metadata": {},
   "outputs": [],
   "source": [
    "estados = {\n",
    "    'Acre':'AC',\n",
    "    'Alagoas':'AL',\n",
    "    'Amapá':'AP',\n",
    "    'Amazonas':'AM',\n",
    "    'Bahia':'BA',\n",
    "    'Ceará':'CE',\n",
    "    'Distrito Federal':'DF',\n",
    "    'Espírito Santo':'ES',\n",
    "    'Goiás':'GO',\n",
    "    'Maranhão':'MA',\n",
    "    'Mato Grosso':'MT',\n",
    "    'Mato Grosso do Sul':'MS',\n",
    "    'Minas Gerais':'MG',\n",
    "    'Pará':'PA',\n",
    "    'Paraíba':'PB',\n",
    "    'Paraná':'PR',\n",
    "    'Pernambuco':'PE',\n",
    "    'Piauí':'PI',\n",
    "    'Rio de Janeiro':'RJ',\n",
    "    'Rio Grande do Norte':'RN',\n",
    "    'Rio Grande do Sul':'RS',\n",
    "    'Rondônia':'RO',\n",
    "    'Roraima':'RR',\n",
    "    'Santa Catarina':'SC',\n",
    "    'São Paulo':'SP',\n",
    "    'Sergipe':'SE',\n",
    "    'Tocantins':'TO'\n",
    "}"
   ]
  },
  {
   "cell_type": "code",
   "execution_count": null,
   "id": "d5619066-a92f-4345-8f8d-52c04b76f074",
   "metadata": {},
   "outputs": [],
   "source": [
    "df['sigla']=df['estado'].map(estados)\n",
    "df"
   ]
  }
 ],
 "metadata": {
  "kernelspec": {
   "display_name": "Python 3",
   "language": "python",
   "name": "python3"
  },
  "language_info": {
   "codemirror_mode": {
    "name": "ipython",
    "version": 3
   },
   "file_extension": ".py",
   "mimetype": "text/x-python",
   "name": "python",
   "nbconvert_exporter": "python",
   "pygments_lexer": "ipython3",
   "version": "3.8.8"
  }
 },
 "nbformat": 4,
 "nbformat_minor": 5
}
